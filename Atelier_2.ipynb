{
  "nbformat": 4,
  "nbformat_minor": 0,
  "metadata": {
    "colab": {
      "provenance": [],
      "toc_visible": true
    },
    "kernelspec": {
      "name": "python3",
      "display_name": "Python 3"
    },
    "language_info": {
      "name": "python"
    }
  },
  "cells": [
    {
      "cell_type": "markdown",
      "source": [
        "**AHMED BETTIOUIT**\n",
        "\n",
        "Module : Langage de programmation\n",
        "\n",
        "Atelier 2\n",
        "\n"
      ],
      "metadata": {
        "id": "ILCV1-FvFLA-"
      }
    },
    {
      "cell_type": "markdown",
      "source": [
        "1-Créer une liste en choisissant des éléments d'index impair dans la première liste et des éléments d'index pair dans la seconde. Étant donné deux listes, l1 et l2, écrivez un programme pour créer une troisième liste l3 en choisissant un élément d'indice impair dans la liste l1 et des éléments d'indice pair dans la liste l2."
      ],
      "metadata": {
        "id": "I2XiJneZFwk4"
      }
    },
    {
      "cell_type": "code",
      "source": [
        "l1 = [4,8,12,16,20,24,28]\n",
        "l2 = [3,6,9,12,15,18]\n",
        "l3 = []\n",
        "for i in range(len(l1)):\n",
        "  if i%2 !=0:\n",
        "    l3.append(l1[i])\n",
        "for i in range(len(l2)):\n",
        "  if i%2==0:\n",
        "    l3.append(l2[i])\n",
        "print(l3)\n",
        "  \n",
        "\n",
        "  \n",
        "     "
      ],
      "metadata": {
        "colab": {
          "base_uri": "https://localhost:8080/"
        },
        "id": "SbAi8gPvF3NF",
        "outputId": "ad32c5c2-640c-4051-a8a9-c8eea5d24d7f"
      },
      "execution_count": 9,
      "outputs": [
        {
          "output_type": "stream",
          "name": "stdout",
          "text": [
            "[8, 16, 24, 3, 9, 15]\n"
          ]
        }
      ]
    },
    {
      "cell_type": "markdown",
      "source": [
        "2. Deviser la liste en 3 morceaux égaux et inverser chaque morceau"
      ],
      "metadata": {
        "id": "o5zJ-Yn4JPU-"
      }
    },
    {
      "cell_type": "code",
      "source": [],
      "metadata": {
        "id": "qF9AwuZ1JVtg"
      },
      "execution_count": null,
      "outputs": []
    },
    {
      "cell_type": "markdown",
      "source": [
        "3. Écrire un programme pour itérer une liste donnée et compter l'occurrence de chaque élément et\n",
        "créer un dictionnaire pour montrer le nombre de chaque élément."
      ],
      "metadata": {
        "id": "Je_fkDIxJWOg"
      }
    },
    {
      "cell_type": "code",
      "source": [],
      "metadata": {
        "id": "45QJU8MaJcah"
      },
      "execution_count": null,
      "outputs": []
    },
    {
      "cell_type": "markdown",
      "source": [
        "4.Trouver l'intersection (commune) de deux Sets et supprimez ces éléments du premier Set"
      ],
      "metadata": {
        "id": "rM1uC74dJ5rg"
      }
    },
    {
      "cell_type": "code",
      "source": [
        "set1={1,2,3,4,5,6,7,8,10,11}\n",
        "set2={2,4,6,7,5,0,11}\n",
        "set3 = set1.intersection(set2)\n",
        "set1-=set3\n",
        "print(set3)\n",
        "print(set1)"
      ],
      "metadata": {
        "colab": {
          "base_uri": "https://localhost:8080/"
        },
        "id": "Lx5xmvbSKAdp",
        "outputId": "95710c1e-35e5-4587-cc2f-83be9d574e3a"
      },
      "execution_count": 13,
      "outputs": [
        {
          "output_type": "stream",
          "name": "stdout",
          "text": [
            "{2, 4, 5, 6, 7, 11}\n",
            "{1, 3, 8, 10}\n"
          ]
        }
      ]
    },
    {
      "cell_type": "markdown",
      "source": [
        "5. Itérer une liste donnée et vérifier si un élément donné existe en tant que valeur de clé dans\n",
        "un dictionnaire. Sinon, supprimez-le de la liste"
      ],
      "metadata": {
        "id": "vc9bNJoiM2Af"
      }
    },
    {
      "cell_type": "code",
      "source": [
        "def f(x,y):\n",
        "  for ab in x:\n",
        "    if ab not in y:\n",
        "      x.remove(ab)\n",
        "  return x\n",
        "x = [1, 2, 3, 4]\n",
        "y = {1: \"a\", 2: \"b\", 3: \"c\"}\n",
        "f = f(x,y)\n",
        "print(f) "
      ],
      "metadata": {
        "colab": {
          "base_uri": "https://localhost:8080/"
        },
        "id": "W_STkbSAFl5K",
        "outputId": "623a2c1c-0811-4fe9-8073-6bc04b6dff72"
      },
      "execution_count": 1,
      "outputs": [
        {
          "output_type": "stream",
          "name": "stdout",
          "text": [
            "[1, 2, 3]\n"
          ]
        }
      ]
    }
  ]
}